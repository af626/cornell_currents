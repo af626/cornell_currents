{
 "cells": [
  {
   "cell_type": "code",
   "execution_count": null,
   "metadata": {},
   "outputs": [],
   "source": [
    "# Install necessary pacakages\n",
    "# pip install pandas"
   ]
  },
  {
   "cell_type": "code",
   "execution_count": 2,
   "metadata": {},
   "outputs": [],
   "source": [
    "# Import necessary pacakages\n",
    "import pandas as pd\n",
    "import numpy as np"
   ]
  },
  {
   "cell_type": "code",
   "execution_count": 14,
   "metadata": {},
   "outputs": [],
   "source": [
    "# Define Nececessary Inital Parameter\n",
    "room_height = 5 # in cm\n",
    "room_width = 5 # in cm\n",
    "room_breadth = 5 # in cm\n",
    "grid_step_height = 1 # in cm\n",
    "grid_step_width = 1 # in cm\n",
    "grid_step_breadth = 1 # in cm\n",
    "temp_room_inital = 450 # degree celcius\n",
    "temp_room_final = 500 # degree celcius\n",
    "heat_source_x = 0\n",
    "heat_source_y = 0\n",
    "heat_source_z = 0"
   ]
  },
  {
   "cell_type": "code",
   "execution_count": 7,
   "metadata": {},
   "outputs": [],
   "source": [
    "# Compute the necessary parameters\n",
    "grid_size_height = int(room_height/grid_step_height)\n",
    "grid_size_width = int(room_width/grid_step_width)\n",
    "grid_size_breadth = int(room_breadth/grid_step_breadth)\n",
    "grid_size_max = int(max(grid_size_height,grid_size_width,grid_size_breadth))"
   ]
  },
  {
   "cell_type": "code",
   "execution_count": 19,
   "metadata": {},
   "outputs": [
    {
     "data": {
      "text/html": [
       "<div>\n",
       "<style scoped>\n",
       "    .dataframe tbody tr th:only-of-type {\n",
       "        vertical-align: middle;\n",
       "    }\n",
       "\n",
       "    .dataframe tbody tr th {\n",
       "        vertical-align: top;\n",
       "    }\n",
       "\n",
       "    .dataframe thead th {\n",
       "        text-align: right;\n",
       "    }\n",
       "</style>\n",
       "<table border=\"1\" class=\"dataframe\">\n",
       "  <thead>\n",
       "    <tr style=\"text-align: right;\">\n",
       "      <th></th>\n",
       "      <th>0</th>\n",
       "      <th>1</th>\n",
       "      <th>2</th>\n",
       "      <th>3</th>\n",
       "      <th>4</th>\n",
       "    </tr>\n",
       "  </thead>\n",
       "  <tbody>\n",
       "    <tr>\n",
       "      <th>0</th>\n",
       "      <td>500.0</td>\n",
       "      <td>450.0</td>\n",
       "      <td>450.0</td>\n",
       "      <td>450.0</td>\n",
       "      <td>450.0</td>\n",
       "    </tr>\n",
       "    <tr>\n",
       "      <th>1</th>\n",
       "      <td>450.0</td>\n",
       "      <td>450.0</td>\n",
       "      <td>450.0</td>\n",
       "      <td>450.0</td>\n",
       "      <td>450.0</td>\n",
       "    </tr>\n",
       "    <tr>\n",
       "      <th>2</th>\n",
       "      <td>450.0</td>\n",
       "      <td>450.0</td>\n",
       "      <td>450.0</td>\n",
       "      <td>450.0</td>\n",
       "      <td>450.0</td>\n",
       "    </tr>\n",
       "    <tr>\n",
       "      <th>3</th>\n",
       "      <td>450.0</td>\n",
       "      <td>450.0</td>\n",
       "      <td>450.0</td>\n",
       "      <td>450.0</td>\n",
       "      <td>450.0</td>\n",
       "    </tr>\n",
       "    <tr>\n",
       "      <th>4</th>\n",
       "      <td>450.0</td>\n",
       "      <td>450.0</td>\n",
       "      <td>450.0</td>\n",
       "      <td>450.0</td>\n",
       "      <td>450.0</td>\n",
       "    </tr>\n",
       "  </tbody>\n",
       "</table>\n",
       "</div>"
      ],
      "text/plain": [
       "       0      1      2      3      4\n",
       "0  500.0  450.0  450.0  450.0  450.0\n",
       "1  450.0  450.0  450.0  450.0  450.0\n",
       "2  450.0  450.0  450.0  450.0  450.0\n",
       "3  450.0  450.0  450.0  450.0  450.0\n",
       "4  450.0  450.0  450.0  450.0  450.0"
      ]
     },
     "execution_count": 19,
     "metadata": {},
     "output_type": "execute_result"
    }
   ],
   "source": [
    "# Create the 2d (breadth,width) temperature grid profile @ t = 0 sec\n",
    "data_temp = pd.DataFrame(np.zeros((grid_size_width,grid_size_breadth)))\n",
    "for col in data_temp.columns:\n",
    "    data_temp[col].values[:] = temp_room_inital\n",
    "\n",
    "data_temp[heat_source_x][heat_source_y] = temp_room_final\n",
    "data_temp"
   ]
  },
  {
   "cell_type": "code",
   "execution_count": 41,
   "metadata": {},
   "outputs": [
    {
     "name": "stdout",
     "output_type": "stream",
     "text": [
      "500.0\n",
      "450.0\n",
      "450.0\n",
      "450.0\n",
      "450.0\n",
      "450.0\n",
      "450.0\n",
      "450.0\n",
      "450.0\n",
      "450.0\n",
      "450.0\n",
      "450.0\n",
      "450.0\n",
      "450.0\n",
      "450.0\n",
      "450.0\n",
      "450.0\n",
      "450.0\n",
      "450.0\n",
      "450.0\n",
      "450.0\n",
      "450.0\n",
      "450.0\n",
      "450.0\n",
      "450.0\n"
     ]
    }
   ],
   "source": [
    "for i in range(0,grid_size_max):\n",
    "    for j in range(0,(i+1)):\n",
    "        if i>=j:\n",
    "            print(data_temp[i][j])\n",
    "    for k in range(0,i):\n",
    "            l = i-k-1\n",
    "            print(data_temp[l][i])"
   ]
  }
 ],
 "metadata": {
  "kernelspec": {
   "display_name": "Python 3",
   "language": "python",
   "name": "python3"
  },
  "language_info": {
   "codemirror_mode": {
    "name": "ipython",
    "version": 3
   },
   "file_extension": ".py",
   "mimetype": "text/x-python",
   "name": "python",
   "nbconvert_exporter": "python",
   "pygments_lexer": "ipython3",
   "version": "3.11.2"
  }
 },
 "nbformat": 4,
 "nbformat_minor": 2
}
